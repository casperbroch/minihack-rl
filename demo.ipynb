{
 "cells": [
  {
   "cell_type": "code",
   "execution_count": 1,
   "metadata": {
    "vscode": {
     "languageId": "plaintext"
    }
   },
   "outputs": [
    {
     "ename": "ModuleNotFoundError",
     "evalue": "No module named 'minihack_rl'",
     "output_type": "error",
     "traceback": [
      "\u001b[0;31m---------------------------------------------------------------------------\u001b[0m",
      "\u001b[0;31mModuleNotFoundError\u001b[0m                       Traceback (most recent call last)",
      "Cell \u001b[0;32mIn[1], line 1\u001b[0m\n\u001b[0;32m----> 1\u001b[0m \u001b[38;5;28;01mfrom\u001b[39;00m\u001b[38;5;250m \u001b[39m\u001b[38;5;21;01mminihack_rl\u001b[39;00m\u001b[38;5;21;01m.\u001b[39;00m\u001b[38;5;21;01malgorithms\u001b[39;00m\u001b[38;5;250m \u001b[39m\u001b[38;5;28;01mimport\u001b[39;00m get_agent_class\n\u001b[1;32m      2\u001b[0m Agent \u001b[38;5;241m=\u001b[39m get_agent_class(\u001b[38;5;124m\"\u001b[39m\u001b[38;5;124mppo\u001b[39m\u001b[38;5;124m\"\u001b[39m)\n\u001b[1;32m      4\u001b[0m agent \u001b[38;5;241m=\u001b[39m Agent(\n\u001b[1;32m      5\u001b[0m     env_id      \u001b[38;5;241m=\u001b[39m \u001b[38;5;124m\"\u001b[39m\u001b[38;5;124mMiniHack-HideNSeek-v0\u001b[39m\u001b[38;5;124m\"\u001b[39m,\n\u001b[1;32m      6\u001b[0m     total_steps \u001b[38;5;241m=\u001b[39m \u001b[38;5;241m300_000\u001b[39m,\n\u001b[1;32m      7\u001b[0m     seed        \u001b[38;5;241m=\u001b[39m \u001b[38;5;241m42\u001b[39m,\n\u001b[1;32m      8\u001b[0m     n_envs      \u001b[38;5;241m=\u001b[39m \u001b[38;5;241m24\u001b[39m,\n\u001b[1;32m      9\u001b[0m )\n",
      "\u001b[0;31mModuleNotFoundError\u001b[0m: No module named 'minihack_rl'"
     ]
    }
   ],
   "source": [
    "from minihack_rl.algorithms import get_agent_class\n",
    "Agent = get_agent_class(\"ppo\")\n",
    "\n",
    "agent = Agent(\n",
    "    env_id      = \"MiniHack-HideNSeek-v0\",\n",
    "    total_steps = 300_000,\n",
    "    seed        = 42,\n",
    "    n_envs      = 24,\n",
    ")\n",
    "agent.train()          # ← live progress bar from SB3\n",
    "path = agent.save()    # returns pathlib.Path\n"
   ]
  },
  {
   "cell_type": "code",
   "execution_count": null,
   "metadata": {
    "vscode": {
     "languageId": "plaintext"
    }
   },
   "outputs": [],
   "source": [
    "from minihack_rl.scripts.evaluate import record_video\n",
    "record_video(\n",
    "    model_path=\"minihack_rl/data/models/PPO/ppo_MiniHack-HideNSeek-v0.zip\",\n",
    "    env_id=\"MiniHack-HideNSeek-v0\",\n",
    "    n_episodes=3,\n",
    "    fps=2,\n",
    ")"
   ]
  }
 ],
 "metadata": {
  "kernelspec": {
   "display_name": "python3.9-minihack",
   "language": "python",
   "name": "minihack-env"
  },
  "language_info": {
   "codemirror_mode": {
    "name": "ipython",
    "version": 3
   },
   "file_extension": ".py",
   "mimetype": "text/x-python",
   "name": "python",
   "nbconvert_exporter": "python",
   "pygments_lexer": "ipython3",
   "version": "3.9.22"
  }
 },
 "nbformat": 4,
 "nbformat_minor": 4
}
