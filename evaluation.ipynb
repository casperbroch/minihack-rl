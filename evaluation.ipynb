{
 "cells": [
  {
   "cell_type": "markdown",
   "metadata": {},
   "source": [
    "# Evaluation Notebook"
   ]
  },
  {
   "cell_type": "markdown",
   "metadata": {},
   "source": [
    "#### Imports"
   ]
  },
  {
   "cell_type": "code",
   "execution_count": null,
   "metadata": {},
   "outputs": [],
   "source": [
    "import os\n",
    "from pathlib import Path\n",
    "import numpy as np\n",
    "import torch\n",
    "import torch.nn as nn\n",
    "import types\n",
    "import sys\n",
    "import matplotlib.pyplot as plt\n",
    "\n",
    "import gymnasium as gym\n",
    "from gymnasium.wrappers import RecordEpisodeStatistics\n",
    "from stable_baselines3.common.vec_env import DummyVecEnv\n",
    "from stable_baselines3 import PPO\n",
    "from stable_baselines3.common.torch_layers import BaseFeaturesExtractor"
   ]
  },
  {
   "cell_type": "markdown",
   "metadata": {},
   "source": [
    "#### Parameters"
   ]
  },
  {
   "cell_type": "code",
   "execution_count": 21,
   "metadata": {},
   "outputs": [],
   "source": [
    "ENV_ID = \"MiniHack-Room-Ultimate-15x15-v0\"\n",
    "MODEL = \"PPO_RND\"\n",
    "MODEL_PATH = f\"./data/models/{MODEL}/best_hp_model\"\n",
    "VIDEOS_DIR = f\"./data/videos/{MODEL}\"\n",
    "N_EPISODES = 5\n",
    "FPS = 1\n",
    "SEED = 42\n",
    "DEVICE = torch.device(\"cuda\" if torch.cuda.is_available() else \"cpu\")\n",
    "KEYS_FOR_POLICY = (\"glyphs_crop\", \"blstats\")"
   ]
  },
  {
   "cell_type": "markdown",
   "metadata": {},
   "source": [
    "#### Custom feature extractor (direct copy from base code)"
   ]
  },
  {
   "cell_type": "code",
   "execution_count": 5,
   "metadata": {},
   "outputs": [],
   "source": [
    "class MiniHackCNN(BaseFeaturesExtractor):\n",
    "    def __init__(self, observation_space, features_dim=256):\n",
    "        super().__init__(observation_space, features_dim)\n",
    "        glyphs = observation_space.spaces[\"glyphs_crop\"]\n",
    "        n_glyphs = int(glyphs.high.max()) + 1\n",
    "        H, W = glyphs.shape\n",
    "        self.embed = nn.Embedding(n_glyphs, 32)\n",
    "        self.conv = nn.Sequential(\n",
    "            nn.Conv2d(32, 64, kernel_size=3, padding=1),\n",
    "            nn.ReLU(),\n",
    "            nn.Flatten(),\n",
    "        )\n",
    "        self._conv_out = 64 * H * W\n",
    "        bl_dim = observation_space.spaces[\"blstats\"].shape[0]\n",
    "        self.fc = nn.Sequential(\n",
    "            nn.Linear(self._conv_out + bl_dim, features_dim),\n",
    "            nn.ReLU(),\n",
    "        )\n",
    "\n",
    "    def forward(self, obs):\n",
    "        x = self.embed(obs[\"glyphs_crop\"].long()).permute(0, 3, 1, 2)\n",
    "        x = self.conv(x)\n",
    "        x = torch.cat([x, obs[\"blstats\"].float()], dim=1)\n",
    "        return self.fc(x)\n",
    "    \n",
    "# Register feature module\n",
    "features_mod = types.ModuleType(\"features\")\n",
    "features_mod.MiniHackCNN = MiniHackCNN\n",
    "sys.modules[\"features\"] = features_mod"
   ]
  },
  {
   "cell_type": "markdown",
   "metadata": {},
   "source": [
    "#### Environment setup"
   ]
  },
  {
   "cell_type": "code",
   "execution_count": 6,
   "metadata": {},
   "outputs": [],
   "source": [
    "def make_eval_env(seed):\n",
    "    def thunk():\n",
    "        env = gym.make(\n",
    "            ENV_ID,\n",
    "            observation_keys=(\"glyphs_crop\", \"blstats\", \"pixel\", \"message\", \"chars\"),\n",
    "            render_mode=None,\n",
    "        )\n",
    "        env = RecordEpisodeStatistics(env)\n",
    "        env.reset(seed=seed)\n",
    "        return env\n",
    "    return thunk"
   ]
  },
  {
   "cell_type": "markdown",
   "metadata": {},
   "source": [
    "## Video recording"
   ]
  },
  {
   "cell_type": "code",
   "execution_count": 9,
   "metadata": {},
   "outputs": [],
   "source": [
    "def record_video(model_path, out_dir=VIDEOS_DIR, n_episodes=N_EPISODES, fps=FPS):\n",
    "    os.makedirs(out_dir, exist_ok=True)\n",
    "    env = DummyVecEnv([make_eval_env(SEED)])\n",
    "    model = PPO.load(model_path, device=DEVICE, custom_objects={\n",
    "        \"clip_range\": lambda _: 0.2,\n",
    "        \"lr_schedule\": lambda _: 3e-4,\n",
    "        \"MiniHackCNN\": MiniHackCNN,\n",
    "    })\n",
    "    for ep in range(n_episodes):\n",
    "        frames, done, ep_ret = [], False, 0.0\n",
    "        obs = env.reset()\n",
    "        while not done:\n",
    "            frames.append(obs[\"pixel\"][0])\n",
    "            action, _ = model.predict(\n",
    "                {k: obs[k] for k in KEYS_FOR_POLICY}, deterministic=True\n",
    "            )\n",
    "            obs, rewards, dones, infos = env.step(action)\n",
    "            done = bool(dones[0])\n",
    "            ep_ret += rewards[0]\n",
    "        out_path = Path(out_dir) / f\"episode_{ep:03d}.mp4\"\n",
    "        import imageio.v3 as iio\n",
    "        iio.imwrite(out_path, np.stack(frames), fps=fps)\n",
    "        print(f\"Saved video: {out_path}\")"
   ]
  },
  {
   "cell_type": "code",
   "execution_count": 27,
   "metadata": {},
   "outputs": [
    {
     "name": "stdout",
     "output_type": "stream",
     "text": [
      "Saved video: data/videos/PPO_RND/episode_000.mp4\n"
     ]
    }
   ],
   "source": [
    "record_video(MODEL_PATH, out_dir=VIDEOS_DIR, n_episodes=1, fps=1)"
   ]
  },
  {
   "cell_type": "markdown",
   "metadata": {},
   "source": [
    "## Heatmap visualization"
   ]
  },
  {
   "cell_type": "code",
   "execution_count": 28,
   "metadata": {},
   "outputs": [],
   "source": [
    "def collect_heatmap(n_runs=50):\n",
    "    env = DummyVecEnv([make_eval_env(SEED)])\n",
    "    model = PPO.load(MODEL_PATH, device=DEVICE, custom_objects={\"MiniHackCNN\": MiniHackCNN})\n",
    "    obs = env.reset()\n",
    "    H, W = obs[\"pixel\"][0].shape[:2]\n",
    "    H //= 16; W //= 16\n",
    "    heat = np.zeros((H, W), int)\n",
    "    for _ in range(n_runs):\n",
    "        obs = env.reset()\n",
    "        entrance = tuple(map(int, obs[\"blstats\"][0][:2]))\n",
    "        done, steps = False, 0\n",
    "        while not done and steps <= 128:\n",
    "            x, y = map(int, obs[\"blstats\"][0][:2])\n",
    "            heat[y, x] += 1\n",
    "            action, _ = model.predict(\n",
    "                {k: obs[k] for k in KEYS_FOR_POLICY}, deterministic=True\n",
    "            )\n",
    "            obs, _, dones, _ = env.step(action)\n",
    "            done = bool(dones[0]); steps += 1\n",
    "    return entrance, heat\n",
    "\n",
    "def show_heatmap(heat, entrance=None, exit=None, title=\"Heatmap\"):\n",
    "    plt.figure(figsize=(6,6))\n",
    "    plt.imshow(heat, origin=\"lower\", cmap=\"viridis\", interpolation=\"nearest\")\n",
    "    plt.colorbar(label=\"visits\")\n",
    "    plt.title(title)\n",
    "    if entrance:\n",
    "        ex, ey = entrance\n",
    "        plt.scatter(ex, ey, s=200, marker=\"X\", c=\"red\", edgecolors=\"white\", linewidths=2, label=\"Entrance\")\n",
    "    if exit:\n",
    "        zx, zy = exit\n",
    "        plt.scatter(zx, zy, s=200, marker=\"o\", c=\"yellow\", edgecolors=\"black\", linewidths=2, label=\"Exit\")\n",
    "    if entrance or exit:\n",
    "        plt.legend(loc=\"upper right\")\n",
    "    plt.tight_layout()\n",
    "    plt.show()\n",
    "    \n",
    "def print_entrance_and_exit(env, obs):\n",
    "    x, y = map(int, obs[\"blstats\"][0][:2])\n",
    "    print(f\"Entrance at (x={x}, y={y})\")\n",
    "    char_map = obs[\"chars\"][0]\n",
    "    ys, xs = np.where(char_map == \">\")\n",
    "    if xs.size:\n",
    "        print(f\"Exit at (x={int(xs[0])}, y={int(ys[0])})\")\n",
    "    else:\n",
    "        print(\"No exit ('>') found.\")"
   ]
  },
  {
   "cell_type": "code",
   "execution_count": 33,
   "metadata": {},
   "outputs": [
    {
     "data": {
      "image/png": "[encoded data removed]",
      "text/plain": [
       "<Figure size 600x600 with 2 Axes>"
      ]
     },
     "metadata": {},
     "output_type": "display_data"
    }
   ],
   "source": [
    "\n",
    "entrance, heat = collect_heatmap(n_runs=1)\n",
    "heat_capped = np.minimum(heat, 10)\n",
    "\n",
    "ymin, ymax = 3, 17\n",
    "xmin, xmax = 32, 46\n",
    "\n",
    "crop_y0 = ymin - 1\n",
    "crop_x0 = xmin - 1\n",
    "\n",
    "ent_x, ent_y = entrance\n",
    "ent_x_cropped = ent_x - crop_x0\n",
    "ent_y_cropped = ent_y - crop_y0\n",
    "\n",
    "crop = heat_capped[crop_y0 : ymax+2, crop_x0 : xmax+2]\n",
    "\n",
    "show_heatmap(\n",
    "    crop,\n",
    "    entrance=(ent_x_cropped, ent_y_cropped),\n",
    "    title=\"Cropped Trajectory Heatmap\"\n",
    ")"
   ]
  },
  {
   "cell_type": "markdown",
   "metadata": {},
   "source": [
    "## Agent metric evaluation"
   ]
  },
  {
   "cell_type": "code",
   "execution_count": 34,
   "metadata": {},
   "outputs": [],
   "source": [
    "def evaluate_agent_metrics(model_path, n_runs=100, seed=SEED, device=DEVICE):\n",
    "    env = DummyVecEnv([make_eval_env(seed)])\n",
    "    model = PPO.load(model_path, device=device, custom_objects={\"MiniHackCNN\": MiniHackCNN})\n",
    "    times, death_count, monster_deaths = [], 0, 0\n",
    "    for _ in range(n_runs):\n",
    "        obs = env.reset(); done, steps, traps = False, 0, 0\n",
    "        while not done:\n",
    "            action, _ = model.predict(\n",
    "                {k: obs[k] for k in KEYS_FOR_POLICY}, deterministic=True\n",
    "            )\n",
    "            obs, reward, dones, infos = env.step(action)\n",
    "            done = bool(dones[0]); steps += 1\n",
    "        info = infos[0]\n",
    "        if info.get(\"TimeLimit.truncated\", False):\n",
    "            continue\n",
    "        if reward[0] > 0:\n",
    "            times.append(steps)\n",
    "        else:\n",
    "            death_count += 1\n",
    "            if traps == 0:\n",
    "                monster_deaths += 1\n",
    "    effective = len(times) + death_count\n",
    "    death_rate = death_count / effective if effective else float(\"nan\")\n",
    "    return {\n",
    "        \"times_to_goal\": times,\n",
    "        \"average_time\": np.mean(times) if times else None,\n",
    "        \"death_rate\": death_rate,\n",
    "        \"monster_deaths\": monster_deaths,\n",
    "    }"
   ]
  },
  {
   "cell_type": "code",
   "execution_count": 35,
   "metadata": {},
   "outputs": [
    {
     "name": "stdout",
     "output_type": "stream",
     "text": [
      "{'times_to_goal': [75, 21, 42, 40, 27, 4, 8], 'average_time': np.float64(31.0), 'death_rate': 0.3, 'monster_deaths': 3}\n"
     ]
    }
   ],
   "source": [
    "stats = evaluate_agent_metrics(MODEL_PATH, n_runs=10)\n",
    "print(stats)"
   ]
  }
 ],
 "metadata": {
  "kernelspec": {
   "display_name": "minihack-env",
   "language": "python",
   "name": "python3"
  },
  "language_info": {
   "codemirror_mode": {
    "name": "ipython",
    "version": 3
   },
   "file_extension": ".py",
   "mimetype": "text/x-python",
   "name": "python",
   "nbconvert_exporter": "python",
   "pygments_lexer": "ipython3",
   "version": "3.9.22"
  }
 },
 "nbformat": 4,
 "nbformat_minor": 4
}
