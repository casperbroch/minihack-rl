{
 "cells": [
  {
   "cell_type": "markdown",
   "metadata": {},
   "source": [
    "# Evaluation Notebook\n",
    "This notebook loads a pre-trained agent with a MiniHackCNN backbone, evaluates its behavior in a MiniHack environment, and provides three main functionalities: recording rollouts as video, visualizing visitation heatmaps over the grid, and computing a suite of performance and exploration metrics to compare different algorithms."
   ]
  },
  {
   "cell_type": "markdown",
   "metadata": {},
   "source": [
    "#### Imports"
   ]
  },
  {
   "cell_type": "code",
   "execution_count": 1,
   "metadata": {},
   "outputs": [],
   "source": [
    "import os\n",
    "from pathlib import Path\n",
    "import numpy as np\n",
    "import torch\n",
    "import torch.nn as nn\n",
    "import types\n",
    "import sys\n",
    "from tqdm import tqdm\n",
    "import matplotlib.pyplot as plt\n",
    "\n",
    "import gymnasium as gym\n",
    "from gymnasium.wrappers import RecordEpisodeStatistics\n",
    "from stable_baselines3.common.vec_env import DummyVecEnv\n",
    "from stable_baselines3 import PPO\n",
    "from stable_baselines3.common.torch_layers import BaseFeaturesExtractor\n",
    "\n",
    "import minihack"
   ]
  },
  {
   "cell_type": "markdown",
   "metadata": {},
   "source": [
    "#### Parameters"
   ]
  },
  {
   "cell_type": "code",
   "execution_count": 2,
   "metadata": {},
   "outputs": [],
   "source": [
    "ENV_ID = \"MiniHack-Room-Ultimate-15x15-v0\"\n",
    "MODEL = \"PPO_RND\"\n",
    "MODEL_PATH = f\"./data/models/{MODEL}/best_hp_model\"\n",
    "VIDEOS_DIR = f\"./data/videos/{MODEL}\"\n",
    "N_EPISODES = 5\n",
    "FPS = 1\n",
    "SEED = 42\n",
    "DEVICE = torch.device(\"cuda\" if torch.cuda.is_available() else \"cpu\")\n",
    "KEYS_FOR_POLICY = (\"glyphs_crop\", \"blstats\")"
   ]
  },
  {
   "cell_type": "markdown",
   "metadata": {},
   "source": [
    "#### Custom feature extractor (direct copy from base code)"
   ]
  },
  {
   "cell_type": "code",
   "execution_count": 3,
   "metadata": {},
   "outputs": [],
   "source": [
    "class MiniHackCNN(BaseFeaturesExtractor):\n",
    "    def __init__(self, observation_space, features_dim=256):\n",
    "        super().__init__(observation_space, features_dim)\n",
    "        glyphs = observation_space.spaces[\"glyphs_crop\"]\n",
    "        n_glyphs = int(glyphs.high.max()) + 1\n",
    "        H, W = glyphs.shape\n",
    "        self.embed = nn.Embedding(n_glyphs, 32)\n",
    "        self.conv = nn.Sequential(\n",
    "            nn.Conv2d(32, 64, kernel_size=3, padding=1),\n",
    "            nn.ReLU(),\n",
    "            nn.Flatten(),\n",
    "        )\n",
    "        self._conv_out = 64 * H * W\n",
    "        bl_dim = observation_space.spaces[\"blstats\"].shape[0]\n",
    "        self.fc = nn.Sequential(\n",
    "            nn.Linear(self._conv_out + bl_dim, features_dim),\n",
    "            nn.ReLU(),\n",
    "        )\n",
    "\n",
    "    def forward(self, obs):\n",
    "        x = self.embed(obs[\"glyphs_crop\"].long()).permute(0, 3, 1, 2)\n",
    "        x = self.conv(x)\n",
    "        x = torch.cat([x, obs[\"blstats\"].float()], dim=1)\n",
    "        return self.fc(x)\n",
    "    \n",
    "# Register feature module\n",
    "features_mod = types.ModuleType(\"features\")\n",
    "features_mod.MiniHackCNN = MiniHackCNN\n",
    "sys.modules[\"features\"] = features_mod"
   ]
  },
  {
   "cell_type": "markdown",
   "metadata": {},
   "source": [
    "#### Environment setup"
   ]
  },
  {
   "cell_type": "code",
   "execution_count": 4,
   "metadata": {},
   "outputs": [],
   "source": [
    "def make_eval_env(seed):\n",
    "    def thunk():\n",
    "        env = gym.make(\n",
    "            ENV_ID,\n",
    "            observation_keys=(\"glyphs_crop\", \"blstats\", \"pixel\", \"message\", \"chars\"),\n",
    "            render_mode=None,\n",
    "        )\n",
    "        env = RecordEpisodeStatistics(env)\n",
    "        env.reset(seed=seed)\n",
    "        return env\n",
    "    return thunk"
   ]
  },
  {
   "cell_type": "markdown",
   "metadata": {},
   "source": [
    "## Video recording\n",
    "Runs the agent for a given number of episodes, captures each frame of the pixel observation, and writes out an MP4 video per episode. Useful for qualitatively inspecting the learned policy in action."
   ]
  },
  {
   "cell_type": "code",
   "execution_count": 5,
   "metadata": {},
   "outputs": [],
   "source": [
    "def record_video(model_path, out_dir=VIDEOS_DIR, n_episodes=N_EPISODES, fps=FPS):\n",
    "    os.makedirs(out_dir, exist_ok=True)\n",
    "    env = DummyVecEnv([make_eval_env(SEED)])\n",
    "    model = PPO.load(model_path, device=DEVICE, custom_objects={\n",
    "        \"clip_range\": lambda _: 0.2,\n",
    "        \"lr_schedule\": lambda _: 3e-4,\n",
    "        \"MiniHackCNN\": MiniHackCNN,\n",
    "    })\n",
    "    for ep in range(n_episodes):\n",
    "        frames, done, ep_ret = [], False, 0.0\n",
    "        obs = env.reset()\n",
    "        while not done:\n",
    "            frames.append(obs[\"pixel\"][0])\n",
    "            action, _ = model.predict(\n",
    "                {k: obs[k] for k in KEYS_FOR_POLICY}, deterministic=True\n",
    "            )\n",
    "            obs, rewards, dones, _ = env.step(action)            \n",
    "            done = bool(dones[0])\n",
    "            ep_ret += rewards[0]\n",
    "\n",
    "        out_path = Path(out_dir) / f\"episode_{ep:03d}.mp4\"\n",
    "        import imageio.v3 as iio\n",
    "        iio.imwrite(out_path, np.stack(frames), fps=fps)\n",
    "        print(f\"Saved video: {out_path}\")"
   ]
  },
  {
   "cell_type": "code",
   "execution_count": 6,
   "metadata": {},
   "outputs": [
    {
     "name": "stdout",
     "output_type": "stream",
     "text": [
      "Saved video: data/videos/PPO_RND/episode_000.mp4\n"
     ]
    }
   ],
   "source": [
    "record_video(MODEL_PATH, out_dir=VIDEOS_DIR, n_episodes=1, fps=1)"
   ]
  },
  {
   "cell_type": "markdown",
   "metadata": {},
   "source": [
    "## Heatmap visualization\n",
    "```collect_heatmap``` runs multiple rollouts to tally how often the agent visits each grid cell (downsampled), returning the entrance location, visit counts, and final character map.\n",
    "\n",
    "```show_heatmap``` plots the resulting visitation counts as a 2D heatmap and overlays markers for the entrance (yellow ○), exit (red X), teleporters (purple ◆), and monsters (green ■). This visualizes a final heatmap of the trajectory, thus e.g. any slain monsters are not shown."
   ]
  },
  {
   "cell_type": "code",
   "execution_count": 7,
   "metadata": {},
   "outputs": [],
   "source": [
    "def collect_heatmap(n_runs=50):\n",
    "    env = DummyVecEnv([make_eval_env(SEED)])\n",
    "    model = PPO.load(MODEL_PATH, device=DEVICE, custom_objects={\"MiniHackCNN\": MiniHackCNN})\n",
    "    obs = env.reset()\n",
    "    H, W = obs[\"pixel\"][0].shape[:2]\n",
    "    H //= 16; W //= 16\n",
    "    heat = np.zeros((H, W), int)\n",
    "    char_map = obs[\"chars\"][0]\n",
    "    for _ in range(n_runs):\n",
    "        obs = env.reset()\n",
    "        entrance = tuple(map(int, obs[\"blstats\"][0][:2]))\n",
    "        done, steps = False, 0\n",
    "        while not done and steps <= 128:\n",
    "            x, y = map(int, obs[\"blstats\"][0][:2])\n",
    "            heat[y, x] += 1\n",
    "            action, _ = model.predict(\n",
    "                {k: obs[k] for k in KEYS_FOR_POLICY}, deterministic=True\n",
    "            )\n",
    "            char_map = obs[\"chars\"][0]\n",
    "            obs, _, dones, _ = env.step(action)\n",
    "            done = bool(dones[0]) \n",
    "            steps += 1\n",
    "    return entrance, heat, char_map\n",
    "\n",
    "def show_heatmap(heat, entrance=None, exit=None, teleporters=None, monsters=None, title=\"Heatmap\"):\n",
    "    plt.figure(figsize=(6,6))\n",
    "    plt.imshow(heat, origin=\"lower\", cmap=\"viridis\", interpolation=\"nearest\")\n",
    "    plt.colorbar(label=\"visits\")\n",
    "    plt.title(title)\n",
    "\n",
    "    if entrance:\n",
    "        zx, zy = entrance\n",
    "        plt.scatter(zx, zy, s=200, marker=\"o\",\n",
    "                    c=\"yellow\", edgecolors=\"black\",\n",
    "                    linewidths=1, label=\"Entrance\")\n",
    "\n",
    "    if exit:\n",
    "        ex, ey = exit\n",
    "        plt.scatter(ex, ey, s=200, marker=\"X\",\n",
    "                    c=\"red\", edgecolors=\"white\",\n",
    "                    linewidths=1, label=\"Exit\")\n",
    "\n",
    "    if teleporters:\n",
    "        txs, tys = zip(*teleporters)\n",
    "        plt.scatter(txs, tys, s=150, marker=\"D\",\n",
    "                    c=\"purple\", edgecolors=\"white\",\n",
    "                    linewidths=1, label=\"Teleporter\")\n",
    "        \n",
    "    if monsters:\n",
    "            mxs, mys = zip(*monsters)\n",
    "            plt.scatter(mxs, mys, s=150, marker=\"s\",\n",
    "                        c=\"green\", edgecolors=\"white\",\n",
    "                        linewidths=1, label=\"Monster\")\n",
    "\n",
    "    if entrance or exit or teleporters:\n",
    "        plt.legend(loc=\"upper right\")\n",
    "\n",
    "    plt.tight_layout()\n",
    "    plt.show()\n"
   ]
  },
  {
   "cell_type": "code",
   "execution_count": 8,
   "metadata": {},
   "outputs": [],
   "source": [
    "entrance, heat, char_map = collect_heatmap(n_runs=1)\n",
    "\n",
    "heat_capped = np.minimum(heat, 10)\n",
    "\n",
    "ymin, ymax = 3, 17\n",
    "xmin, xmax = 32, 46\n",
    "\n",
    "crop_y0 = ymin - 0\n",
    "crop_x0 = xmin - 0\n",
    "\n",
    "ent_x, ent_y = entrance\n",
    "ent_x_cropped = ent_x - crop_x0\n",
    "ent_y_cropped = ent_y - crop_y0\n",
    "\n",
    "crop = heat_capped[crop_y0 : ymax+2, crop_x0 : xmax+2]\n",
    "\n",
    "char_crop = char_map[crop_y0 : ymax+2, crop_x0 : xmax+2]\n",
    "\n",
    "ys, xs = np.where(char_crop == 62)\n",
    "exit_pos = (int(xs[0]), int(ys[0])) if xs.size else None\n",
    "\n",
    "t_ys, t_xs = np.where(char_crop == 94)\n",
    "teleporter_positions = list(zip(t_xs.tolist(), t_ys.tolist()))\n",
    "\n",
    "m_ys, m_xs = np.where((char_crop == 100) | (char_crop == 114))\n",
    "monster_positions = list(zip(m_xs.tolist(), m_ys.tolist()))"
   ]
  },
  {
   "cell_type": "code",
   "execution_count": 9,
   "metadata": {},
   "outputs": [
    {
     "data": {
      "image/png": "[encoded data removed]",
      "text/plain": [
       "<Figure size 600x600 with 2 Axes>"
      ]
     },
     "metadata": {},
     "output_type": "display_data"
    }
   ],
   "source": [
    "show_heatmap(\n",
    "    crop,\n",
    "    entrance=(ent_x_cropped, ent_y_cropped),\n",
    "    exit=exit_pos,\n",
    "    teleporters=teleporter_positions,\n",
    "    monsters=monster_positions,\n",
    "    title=f\"Single trajectory heatmap of \\n {MODEL} on {ENV_ID}\"\n",
    ")"
   ]
  },
  {
   "cell_type": "markdown",
   "metadata": {},
   "source": [
    "## Agent metric evaluation\n",
    "Executes the agent over many episodes with a progress bar (via tqdm), and computes both standard performance statistics (success rate, average steps to success, death/timeout rates) and richer exploration metrics (unique cells visited, steps with monsters/teleporters in view, fraction of runs spotting them, and average step of first sighting). Returns a dictionary of all metrics for easy comparison across different models or hyperparameters."
   ]
  },
  {
   "cell_type": "code",
   "execution_count": 10,
   "metadata": {},
   "outputs": [],
   "source": [
    "def evaluate_agent_metrics(model_path,\n",
    "                           n_runs=100,\n",
    "                           seed=SEED,\n",
    "                           device=DEVICE):\n",
    "    env = DummyVecEnv([make_eval_env(seed)])\n",
    "    model = PPO.load(\n",
    "        model_path,\n",
    "        device=device,\n",
    "        custom_objects={\"MiniHackCNN\": MiniHackCNN}\n",
    "    )\n",
    "\n",
    "    times = []\n",
    "    success_count = 0\n",
    "    monster_deaths = 0\n",
    "    timeout_count = 0\n",
    "    unique_positions_counts = []     # per run\n",
    "    monster_sighting_steps = []      # number of steps with at least one monster in view\n",
    "    teleporter_sighting_steps = []   # number of steps with at least one teleporter in view\n",
    "    first_monster_step_runs = []     # step index of first monster sighting (or None)\n",
    "    first_teleporter_step_runs = []  # step index of first teleporter sighting (or None)\n",
    "\n",
    "    for run in tqdm(range(n_runs), desc=\"Evaluating runs\"):\n",
    "        obs = env.reset()\n",
    "        done, step = False, 0\n",
    "\n",
    "        # per‐run trackers\n",
    "        visited = set()\n",
    "        monster_steps = 0\n",
    "        tele_steps = 0\n",
    "        first_monster_step = None\n",
    "        first_tele_step = None\n",
    "\n",
    "        # get the global entrance position once\n",
    "        bl0 = obs[\"blstats\"][0]\n",
    "        ent_y, ent_x = int(bl0[0]), int(bl0[1])\n",
    "        while not done:\n",
    "            # current global position\n",
    "            bl = obs[\"blstats\"][0]\n",
    "            y, x = int(bl[0]), int(bl[1])            \n",
    "            visited.add((x, y))\n",
    "\n",
    "            char_map = obs[\"chars\"][0]\n",
    "\n",
    "            if np.any((char_map == 114) | (char_map == 100)):\n",
    "                monster_steps += 1\n",
    "                if first_monster_step is None:\n",
    "                    first_monster_step = step\n",
    "\n",
    "            if np.any(char_map == 94):\n",
    "                tele_steps += 1\n",
    "                if first_tele_step is None:\n",
    "                    first_tele_step = step\n",
    "\n",
    "            # step the agent\n",
    "            action, _ = model.predict(\n",
    "                {k: obs[k] for k in KEYS_FOR_POLICY}, deterministic=True\n",
    "            )\n",
    "            obs, reward, dones, infos = env.step(action)\n",
    "            done = bool(dones[0])\n",
    "            step += 1\n",
    "\n",
    "        info = infos[0]\n",
    "        if info.get(\"TimeLimit.truncated\", False):\n",
    "            timeout_count += 1\n",
    "        elif reward[0] > 0:\n",
    "            success_count += 1\n",
    "            times.append(step)\n",
    "        else:\n",
    "            monster_deaths += 1\n",
    "\n",
    "        unique_positions_counts.append(len(visited))\n",
    "        monster_sighting_steps.append(monster_steps)\n",
    "        teleporter_sighting_steps.append(tele_steps)\n",
    "        first_monster_step_runs.append(first_monster_step)\n",
    "        first_teleporter_step_runs.append(first_tele_step)\n",
    "\n",
    "    avg_time = np.mean(times) if times else None\n",
    "    success_rate = success_count / n_runs\n",
    "    monster_death_rate = monster_deaths / n_runs\n",
    "    timeout_rate = timeout_count / n_runs\n",
    "\n",
    "    avg_unique_cells = np.mean(unique_positions_counts)\n",
    "    avg_monster_steps = np.mean(monster_sighting_steps)\n",
    "    avg_tele_steps = np.mean(teleporter_sighting_steps)\n",
    "    frac_runs_saw_monster = sum(1 for s in monster_sighting_steps if s>0) / n_runs\n",
    "    frac_runs_saw_tele = sum(1 for s in teleporter_sighting_steps if s>0) / n_runs\n",
    "    avg_first_monster = np.nanmean([\n",
    "        s if s is not None else np.nan for s in first_monster_step_runs\n",
    "    ])\n",
    "    avg_first_tele = np.nanmean([\n",
    "        s if s is not None else np.nan for s in first_teleporter_step_runs\n",
    "    ])\n",
    "\n",
    "    return {\n",
    "        \"average_time\":       avg_time,\n",
    "        \"success_rate\":       success_rate,\n",
    "        \"monster_death_rate\": monster_death_rate,\n",
    "        \"timeout_rate\":       timeout_rate,\n",
    "        \"avg_unique_cells_visited\":      avg_unique_cells,\n",
    "        \"avg_steps_with_monsters_in_view\":   avg_monster_steps,\n",
    "        \"avg_steps_with_teleporters_in_view\": avg_tele_steps,\n",
    "        \"frac_runs_saw_monster\":         frac_runs_saw_monster,\n",
    "        \"frac_runs_saw_teleporter\":      frac_runs_saw_tele,\n",
    "        \"avg_step_of_first_monster_sighting\":   avg_first_monster,\n",
    "        \"avg_step_of_first_teleporter_sighting\": avg_first_tele,\n",
    "    }\n"
   ]
  },
  {
   "cell_type": "code",
   "execution_count": 11,
   "metadata": {},
   "outputs": [],
   "source": [
    "def print_metrics_overview(metrics: dict, name: str = None):\n",
    "    \"\"\"\n",
    "    Print all metrics with perfectly uniform alignment.\n",
    "    \"\"\"\n",
    "    # Header\n",
    "    header = f\"Metrics Overview: {name}\" if name else \"Metrics Overview\"\n",
    "    sep = \"-\" * len(header)\n",
    "    print(header)\n",
    "    print(sep)\n",
    "\n",
    "    # Core metrics\n",
    "    print(f\"{'Success Rate':30}: {metrics['success_rate']*100:6.2f}%\")\n",
    "    avg_time = metrics['average_time']\n",
    "    avg_time_str = f\"{avg_time:.1f}\" if avg_time is not None else \"—\"\n",
    "    print(f\"{'Average Steps to Success':30}: {avg_time_str:>6}\")\n",
    "    print(f\"{'Monster Death Rate':30}: {metrics['monster_death_rate']*100:6.2f}%\")\n",
    "    print(f\"{'Timeout Rate':30}: {metrics['timeout_rate']*100:6.2f}%\")\n",
    "\n",
    "    print()\n",
    "\n",
    "    # Exploration & Sightings\n",
    "    print(\"Exploration & Sightings\")\n",
    "    print(f\"{'Avg. Unique Cells Visited':30}: {metrics['avg_unique_cells_visited']:6.1f}\")\n",
    "    print(f\"{'Avg. Steps Seeing Monsters':30}: {metrics['avg_steps_with_monsters_in_view']:6.1f}\")\n",
    "    print(f\"{'Avg. Steps Seeing Teleporters':30}: {metrics['avg_steps_with_teleporters_in_view']:6.1f}\")\n",
    "    print(f\"{'Runs That Saw ≥1 Monster':30}: {metrics['frac_runs_saw_monster']*100:6.2f}%\")\n",
    "    print(f\"{'Runs That Saw ≥1 Teleporter':30}: {metrics['frac_runs_saw_teleporter']*100:6.2f}%\")\n",
    "    print(f\"{'Avg. Step of 1st Monster Sighting':30}: {metrics['avg_step_of_first_monster_sighting']:^6}\")\n",
    "    print(f\"{'Avg. Step of 1st Teleporter Sighting':30}: {metrics['avg_step_of_first_teleporter_sighting']:^6}\")\n",
    "\n",
    "    print(sep)\n"
   ]
  },
  {
   "cell_type": "code",
   "execution_count": 12,
   "metadata": {},
   "outputs": [
    {
     "name": "stderr",
     "output_type": "stream",
     "text": [
      "Evaluating runs: 100%|██████████| 100/100 [01:57<00:00,  1.18s/it]"
     ]
    },
    {
     "name": "stdout",
     "output_type": "stream",
     "text": [
      "Metrics Overview: PPO_RND on MiniHack-Room-Ultimate-15x15-v0\n",
      "------------------------------------------------------------\n",
      "Success Rate                  :  67.00%\n",
      "Average Steps to Success      :   59.6\n",
      "Monster Death Rate            :  33.00%\n",
      "Timeout Rate                  :   0.00%\n",
      "\n",
      "Exploration & Sightings\n",
      "Avg. Unique Cells Visited     :   32.1\n",
      "Avg. Steps Seeing Monsters    :    2.5\n",
      "Avg. Steps Seeing Teleporters :   75.6\n",
      "Runs That Saw ≥1 Monster      :  47.00%\n",
      "Runs That Saw ≥1 Teleporter   :  73.00%\n",
      "Avg. Step of 1st Monster Sighting: 5.702127659574468\n",
      "Avg. Step of 1st Teleporter Sighting: 20.684931506849313\n",
      "------------------------------------------------------------\n"
     ]
    },
    {
     "name": "stderr",
     "output_type": "stream",
     "text": [
      "\n"
     ]
    }
   ],
   "source": [
    "stats = evaluate_agent_metrics(MODEL_PATH, n_runs=100)\n",
    "print_metrics_overview(stats, name=f\"{MODEL} on {ENV_ID}\")\n"
   ]
  }
 ],
 "metadata": {
  "kernelspec": {
   "display_name": "minihack-env",
   "language": "python",
   "name": "python3"
  },
  "language_info": {
   "codemirror_mode": {
    "name": "ipython",
    "version": 3
   },
   "file_extension": ".py",
   "mimetype": "text/x-python",
   "name": "python",
   "nbconvert_exporter": "python",
   "pygments_lexer": "ipython3",
   "version": "3.9.22"
  }
 },
 "nbformat": 4,
 "nbformat_minor": 4
}
